{
 "cells": [
  {
   "cell_type": "markdown",
   "metadata": {},
   "source": [
    "# Gather Data\n",
    "\n",
    "**Purpose**: In this notebook we'll establish the connection to Fitbit's API and scrape the data used for analysis downstream. By the end of the notebook we'll have a Pandas dataframe saved to disk as a csv ready for consumption. "
   ]
  },
  {
   "cell_type": "markdown",
   "metadata": {},
   "source": [
    "## Imports\n",
    "\n",
    "*Note*: There's a third party dependency to the open source Python library \"fitbit\". If this is not already installed on the host machine run the following in a terminal: \n",
    "\n",
    "```sh\n",
    "pip install fitbit\n",
    "```"
   ]
  },
  {
   "cell_type": "code",
   "execution_count": 3,
   "metadata": {},
   "outputs": [],
   "source": [
    "import fitbit\n",
    "import requests\n",
    "import pandas as pd\n",
    "import matplotlib.pyplot as plt\n",
    "import datetime\n",
    "import threading\n",
    "import webbrowser\n",
    "\n",
    "from oauthlib.oauth2 import BackendApplicationClient\n",
    "from requests_oauthlib import OAuth2Session\n",
    "from requests.auth import HTTPBasicAuth\n",
    "from IPython.display import display, HTML"
   ]
  },
  {
   "cell_type": "markdown",
   "metadata": {},
   "source": [
    "## Establish Connection to Fitbit API\n",
    "\n",
    "Now we'll leverage the fitbit library we imported by passing in a client id and secret key. We'll also specify a redirect URI of home since we want to intercept the URL parameters that the fitbit API returns to us. \n",
    "\n",
    "At a high level, the fitbit API uses the Oauth2.0 workflow to allow appropriate access for requestors. In this project, the requestor is the Jupyter notebook. By providing credentials from my account, I'm telling Fitbit that this notebook is a trusted application so that Fitbit knows to pass a time sensitive token that will be included with every subsequent request for actual data. We store that token in that notebook and pass it along to the Fitbit library imported. "
   ]
  },
  {
   "cell_type": "code",
   "execution_count": 12,
   "metadata": {},
   "outputs": [],
   "source": [
    "CLIENT_ID = 'REDACTED'\n",
    "CLIENT_SECRET = 'REDACTED'\n",
    "redirect_uri = 'http://127.0.0.1:8080/'\n",
    "fitbit_date_format = '%Y-%m-%d'"
   ]
  },
  {
   "cell_type": "code",
   "execution_count": 5,
   "metadata": {},
   "outputs": [],
   "source": [
    "scope = ['activity','heartrate', 'location', 'nutrition', 'profile', 'settings', 'sleep', 'social', 'weight']\n",
    "auth  = HTTPBasicAuth(CLIENT_ID, CLIENT_SECRET)\n",
    "oauth = OAuth2Session(client_id=CLIENT_ID,redirect_uri=redirect_uri,scope=scope)\n",
    "auth_url, _ = oauth.authorization_url('https://www.fitbit.com/oauth2/authorize')"
   ]
  },
  {
   "cell_type": "code",
   "execution_count": 6,
   "metadata": {},
   "outputs": [
    {
     "data": {
      "text/html": [
       "<a href='https://www.fitbit.com/oauth2/authorize?response_type=code&client_id=22D937&redirect_uri=http%3A%2F%2F127.0.0.1%3A8080%2F&scope=activity+heartrate+location+nutrition+profile+settings+sleep+social+weight&state=Q1yGiojWAgrnSRq3l83uD9quRobK1y' target='_blank'>Click here and then copy the 'code' parameter in the URL</a>"
      ],
      "text/plain": [
       "<IPython.core.display.HTML object>"
      ]
     },
     "metadata": {},
     "output_type": "display_data"
    }
   ],
   "source": [
    "html = HTML(f\"<a href='{auth_url}' target='_blank'>Click here and then copy the 'code' parameter in the URL</a>\")\n",
    "display(html)"
   ]
  },
  {
   "cell_type": "code",
   "execution_count": 7,
   "metadata": {},
   "outputs": [
    {
     "name": "stdout",
     "output_type": "stream",
     "text": [
      "9f44aa5f8b445144cf80dafba12e93263bf23926\n"
     ]
    }
   ],
   "source": [
    "code = input()"
   ]
  },
  {
   "cell_type": "code",
   "execution_count": 8,
   "metadata": {},
   "outputs": [],
   "source": [
    "token = oauth.fetch_token(token_url='https://api.fitbit.com/oauth2/token',username=CLIENT_ID,password=CLIENT_SECRET, code=code)"
   ]
  },
  {
   "cell_type": "markdown",
   "metadata": {},
   "source": [
    "Here we store the token fetched above and initialize the auth2_client object with that token so that we can make authenticated calls."
   ]
  },
  {
   "cell_type": "code",
   "execution_count": 9,
   "metadata": {},
   "outputs": [],
   "source": [
    "auth2_client = fitbit.Fitbit(CLIENT_ID, CLIENT_SECRET, oauth2=True, access_token=token['access_token'], refresh_token=token['refresh_token'])"
   ]
  },
  {
   "cell_type": "code",
   "execution_count": 10,
   "metadata": {},
   "outputs": [],
   "source": [
    "auth2_client.API_VERSION = 1.2 #this has to be manually done because the python library defaults to ver 1."
   ]
  },
  {
   "cell_type": "markdown",
   "metadata": {},
   "source": [
    "Now we'll build the dataframe by making separate requests for each resource we're interested in and keying into the appropriate responses."
   ]
  },
  {
   "cell_type": "markdown",
   "metadata": {},
   "source": [
    "## Build Sleep Data"
   ]
  },
  {
   "cell_type": "code",
   "execution_count": 9,
   "metadata": {},
   "outputs": [],
   "source": [
    "date_list = []\n",
    "startTime_list = []\n",
    "minutesAsleep_list = []\n",
    "first_of_year = datetime.datetime.strptime('2018-01-01', fitbit_date_format)\n",
    "start_date = first_of_year\n",
    "for i in range(3):\n",
    "    # FitBit only allows pulls of 100 days of data at a time. \n",
    "    hunnid_days_later = start_date + datetime.timedelta(days=100)\n",
    "    sleep_records = auth2_client.time_series(resource='sleep'\n",
    "             , base_date=start_date.strftime(fitbit_date_format)\n",
    "             , end_date=hunnid_days_later.strftime(fitbit_date_format))\n",
    "    for record in sleep_records['sleep']:\n",
    "        date_list.append(record['dateOfSleep'])\n",
    "        startTime_list.append(record['startTime'])\n",
    "        minutesAsleep_list.append(record['minutesAsleep'])\n",
    "        \n",
    "    start_date = hunnid_days_later + datetime.timedelta(days=1)"
   ]
  },
  {
   "cell_type": "code",
   "execution_count": 10,
   "metadata": {},
   "outputs": [],
   "source": [
    "df_sleep = pd.DataFrame({'StartTime':startTime_list, 'MinutesAsleep':minutesAsleep_list}, index=date_list)\n",
    "df_sleep = df_sleep[['StartTime', 'MinutesAsleep']]"
   ]
  },
  {
   "cell_type": "code",
   "execution_count": 11,
   "metadata": {
    "scrolled": true
   },
   "outputs": [],
   "source": [
    "df_sleep = df_sleep.groupby(df_sleep.index).agg({'MinutesAsleep':sum, 'StartTime':'first'}).sort_index()"
   ]
  },
  {
   "cell_type": "markdown",
   "metadata": {},
   "source": [
    "## Build Step Data"
   ]
  },
  {
   "cell_type": "code",
   "execution_count": 13,
   "metadata": {},
   "outputs": [],
   "source": [
    "steps_list = []\n",
    "date_list = []\n",
    "first_of_year = datetime.datetime.strptime('2018-01-01', fitbit_date_format)\n",
    "start_date = first_of_year\n",
    "for i in range(3):\n",
    "    # FitBit only allows pulls of 100 days of data at a time. \n",
    "    hunnid_days_later = start_date + datetime.timedelta(days=100)\n",
    "    step_records = auth2_client.time_series(resource='activities/steps'\n",
    "             , base_date=start_date.strftime(fitbit_date_format)\n",
    "             , end_date=hunnid_days_later.strftime(fitbit_date_format))\n",
    "    for record in step_records['activities-steps']:\n",
    "        date_list.append(record['dateTime'])\n",
    "        steps_list.append(record['value'])\n",
    "        \n",
    "    start_date = hunnid_days_later + datetime.timedelta(days=1)"
   ]
  },
  {
   "cell_type": "code",
   "execution_count": 14,
   "metadata": {},
   "outputs": [],
   "source": [
    "df_steps = pd.DataFrame({'Steps': list(map(int,steps_list))}, index=date_list)"
   ]
  },
  {
   "cell_type": "markdown",
   "metadata": {},
   "source": [
    "## Build Resting Heart Rate Data"
   ]
  },
  {
   "cell_type": "code",
   "execution_count": 31,
   "metadata": {},
   "outputs": [],
   "source": [
    "hr_list = []\n",
    "date_list = []\n",
    "first_of_year = datetime.datetime.strptime('2018-01-01', fitbit_date_format)\n",
    "start_date = first_of_year\n",
    "for i in range(3):\n",
    "    # FitBit only allows pulls of 100 days of data at a time. \n",
    "    hunnid_days_later = start_date + datetime.timedelta(days=100)\n",
    "    hr_records = auth2_client.time_series(resource='activities/heart'\n",
    "             , base_date=start_date.strftime(fitbit_date_format)\n",
    "             , end_date=hunnid_days_later.strftime(fitbit_date_format))\n",
    "    for record in hr_records['activities-heart']:\n",
    "        if('restingHeartRate' in record['value']):\n",
    "            date_list.append(record['dateTime'])\n",
    "            hr_list.append(record['value']['restingHeartRate'])\n",
    "        \n",
    "    start_date = hunnid_days_later + datetime.timedelta(days=1)"
   ]
  },
  {
   "cell_type": "code",
   "execution_count": 17,
   "metadata": {},
   "outputs": [],
   "source": [
    "df_heartrate = pd.DataFrame({'Heartrate': list(map(int,hr_list))}, index=date_list)"
   ]
  },
  {
   "cell_type": "markdown",
   "metadata": {},
   "source": [
    "## Consolidate Data"
   ]
  },
  {
   "cell_type": "code",
   "execution_count": 19,
   "metadata": {},
   "outputs": [],
   "source": [
    "df = pd.merge(df_sleep, df_steps, left_index=True, right_index=True, how=\"outer\")"
   ]
  },
  {
   "cell_type": "code",
   "execution_count": 20,
   "metadata": {},
   "outputs": [],
   "source": [
    "df = pd.merge(df, df_heartrate, left_index=True, right_index=True, how=\"outer\")"
   ]
  },
  {
   "cell_type": "code",
   "execution_count": 22,
   "metadata": {},
   "outputs": [],
   "source": [
    "df.to_csv(\"data\")"
   ]
  }
 ],
 "metadata": {
  "kernelspec": {
   "display_name": "Python 3",
   "language": "python",
   "name": "python3"
  },
  "language_info": {
   "codemirror_mode": {
    "name": "ipython",
    "version": 3
   },
   "file_extension": ".py",
   "mimetype": "text/x-python",
   "name": "python",
   "nbconvert_exporter": "python",
   "pygments_lexer": "ipython3",
   "version": "3.6.5"
  }
 },
 "nbformat": 4,
 "nbformat_minor": 2
}
